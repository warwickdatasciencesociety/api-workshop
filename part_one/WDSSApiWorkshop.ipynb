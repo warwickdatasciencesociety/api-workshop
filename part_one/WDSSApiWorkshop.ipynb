{
  "nbformat": 4,
  "nbformat_minor": 0,
  "metadata": {
    "colab": {
      "name": "WDSSApiWorkshop.ipynb",
      "provenance": []
    },
    "kernelspec": {
      "name": "python3",
      "display_name": "Python 3"
    }
  },
  "cells": [
    {
      "cell_type": "markdown",
      "metadata": {
        "id": "S3eM10HUjpEb"
      },
      "source": [
        "# WDSS API Workshop\n",
        "## WarwickHack"
      ]
    },
    {
      "cell_type": "markdown",
      "metadata": {
        "id": "PzAX-T7uRbE3"
      },
      "source": [
        "## Intro\r\n",
        "Before getting started let's cover some basic concepts. An API (Application Programming Interface) is a way for data to be shared between applications. It facilitates the communication through CRUD (Create, Read, Update, Delete), and other operations.\r\n",
        "\r\n",
        "Some reasons we want to use APIs are because:\r\n",
        "- We don't need access to all the data available\r\n",
        "- Some data may be rstrictired/require special privileges to access\r\n",
        "- Data is constantly being updated e.g. users tweets, stock prices\r\n",
        "- Reduce computational load on the client\r\n",
        "\r\n",
        "### REST\r\n",
        "REST has been the defacto standard for the past few years. You'll often hear of them described as RESTful. You communicate with REST APIs over HTTP, with the most common operations being GET (Read), PUT (Update), POST (Create), and DELETE (Delete). \r\n",
        "\r\n",
        "GET is the most commonly used endpoint as in most cases (especially with public APIs), you'll just be retrieving data.\r\n",
        "\r\n",
        "### JSON\r\n",
        "A brief intro to JSON (JavaScript Object Notation) is that it's just a way for us to represent data. It's built up of key-value pairs stored in objects (The ones with '{}' brackets). If we need to return multiple of the same object we can return this in an array (The ones in '[]' brackets). It's really simple to access specific elements in the JSON object if you know the structure. You just index the object like you would an array and/or dictionary.\r\n",
        "\r\n",
        "\r\n",
        "### Status codes\r\n",
        "These are useful as they tell us what's happening with our request\r\n",
        "\r\n",
        "`200` - Ok (Success)\r\n",
        "\r\n",
        "`300` - Redirect\r\n",
        "\r\n",
        "`400` - Bad request\r\n",
        "\r\n",
        "`401` - Not authenticated\r\n",
        "\r\n",
        "`403` - Forbidden\r\n",
        "\r\n",
        "`404` - Not found\r\n",
        "\r\n",
        "`420` - Too many requests\r\n",
        "\r\n",
        "`500` - Internal server error"
      ]
    },
    {
      "cell_type": "code",
      "metadata": {
        "id": "-UxoywMAfSOY"
      },
      "source": [
        "pip install alpha_vantage"
      ],
      "execution_count": null,
      "outputs": []
    },
    {
      "cell_type": "code",
      "metadata": {
        "id": "5jIbWujpgv-E"
      },
      "source": [
        "import pandas as pd\n",
        "import numpy as np\n",
        "import requests\n",
        "import matplotlib.pyplot as plt"
      ],
      "execution_count": null,
      "outputs": []
    },
    {
      "cell_type": "markdown",
      "metadata": {
        "id": "XdV0g6Qgg8ZO"
      },
      "source": [
        "## Task 1\n",
        "We will be using the UK Police API to plot the crime rates in Coventry and London/Your hometown.\n",
        "\n",
        "The UK Police Data is a free open source API which does not require any authentication to use. However, due to this the API is rate limited (https://data.police.uk/docs/api-call-limits/). The TL;DR is that you can make up to 15 requests per second, with a burst of 30. So on average try and make < 15 requests per second.\n",
        "\n",
        "You'll know if you've exceeded the rate limit if you get a HTTP 429 status returned."
      ]
    },
    {
      "cell_type": "markdown",
      "metadata": {
        "id": "P3hXJ_1MiSQj"
      },
      "source": [
        "### Documentation\n",
        "Documentation is your best friend when it comes to APIs, they explain how to use the API, what parameters are needed for your request, what you should expect in return, and how to get authorized if necessary. The UK Police Data documentation can be found here: https://data.police.uk/docs/ \n",
        "\n",
        "\n",
        "### The Task\n",
        "We will be using the Crimes at location endpoint to get the data we need. Looking at the documentation we can see an example on how to retrieve data using a location ID or latitude/longitude coordinates. We will be using latitude and longitude.\n",
        "\n",
        "Here's the example request:\n",
        "https://data.police.uk/api/crimes-at-location?date=2017-02&lat=52.629729&lng=-1.131592\n",
        "\n",
        "*Tip: Try opening it up in your browser and see what it returns!*\n",
        "\n",
        "Lets break down what's happening.\n",
        "- https:// is the URI-scheme\n",
        "- data.police.uk is the URI-host (where to access all endpoints from)\n",
        "- /api/crimes-at-location is the resource path (the data we're trying to get)\n",
        "- date=2017-02&lat=52.629729&lng=-1.131592 is the query-string. \n",
        "  - This is the information we need to provide to the API so it can return the data we need.\n",
        "\n",
        "This should return JSON containing all the data we asked for. If you look at the documentation it breaks down what the data is. \n",
        "```json\n",
        "[\n",
        "    {\n",
        "        \"category\": \"violent-crime\",\n",
        "        \"location_type\": \"Force\",\n",
        "        \"location\": {\n",
        "            \"latitude\": \"52.643950\",\n",
        "            \"street\": {\n",
        "                \"id\": 884227,\n",
        "                \"name\": \"On or near Abbey Gate\"\n",
        "            },\n",
        "            \"longitude\": \"-1.143042\"\n",
        "        },\n",
        "        \"context\": \"\",\n",
        "        \"outcome_status\": {\n",
        "            \"category\": \"Unable to prosecute suspect\",\n",
        "            \"date\": \"2017-02\"\n",
        "        },\n",
        "        \"persistent_id\": \"4d83433f3117b3a4d2c80510c69ea188a145bd7e94f3e98924109e70333ff735\",\n",
        "        \"id\": 54726925,\n",
        "        \"location_subtype\": \"\",\n",
        "        \"month\": \"2017-02\"\n",
        "    }\n",
        "]\n",
        "```\n",
        "\n",
        "\n",
        "\n",
        "If we wanted to get the street nane from the above response we would do\n",
        "```python\n",
        ".......\n",
        "data = response.json()\n",
        "print(data[0][\"location]\"[\"street\"])\n",
        "```\n"
      ]
    },
    {
      "cell_type": "code",
      "metadata": {
        "id": "sjE390hqg52_"
      },
      "source": [
        "### Making a request in python ###\n",
        "date = # YYYY-MM \n",
        "cov_lat = # Google me!\n",
        "cov_lng =  # Google me!\n",
        "ldn_lat = # Google me!\n",
        "ldn_lng = # Google me!\n",
        "\n",
        "def get_crimes_at_location(date, lat, lng):\n",
        "  ''' \n",
        "  Wrapper function\n",
        "  @date YYYY-MM\n",
        "  @lat latitude coord\n",
        "  @lng longitude coord\n",
        "  '''\n",
        "  url = f\"https://data.police.uk/api/crimes-at-location?date={date}&lat={lat}&lng={lng}\"\n",
        "  print(url)\n",
        "  response = requests.get(url)\n",
        "  return response\n",
        "\n",
        "\n",
        "response = get_crimes_at_location(date, cov_lat, cov_lng)\n",
        "print(response.status_code)\n",
        "if response.status_code == 200:\n",
        "  cov_data = response.json()\n",
        "else:\n",
        "  print(f\"Status error: {response.status_code}\")\n",
        "\n",
        "\n",
        "## BEGIN ##\n",
        "\n",
        "# get london crime data\n",
        "\n",
        "## END ##\n",
        "\n",
        "print(response.status_code)\n",
        "if response.status_code == 200:\n",
        "  ldn_data = response.json()\n",
        "else:\n",
        "  print(f\"Status error: {response.status_code}\")\n",
        "\n",
        "plt.subplot(1, 2, 1)\n",
        "plt.bar(len(cov_data))\n",
        "plt.subplot(1, 2, 2)\n",
        "plt.bar(len(ldn_data))"
      ],
      "execution_count": null,
      "outputs": []
    },
    {
      "cell_type": "markdown",
      "metadata": {
        "id": "2q5wOc7LpuA-"
      },
      "source": [
        "Okay, so we've just managed to get some data from the API and create a basic plot with it, nice!\n",
        "\n",
        "Now see if you can get print the name and telephone number of the police force in Warwickshire."
      ]
    },
    {
      "cell_type": "code",
      "metadata": {
        "id": "xowWGZQ4qEKq"
      },
      "source": [
        "## BEGIN ##\n",
        "\n",
        "# make a wrapper function\n",
        "def get_forces():\n",
        "  pass\n",
        "\n",
        "# use the function\n",
        "\n",
        "# check the status\n",
        "\n",
        "# display data if valid\n",
        "  \n",
        "## END ##"
      ],
      "execution_count": null,
      "outputs": []
    },
    {
      "cell_type": "markdown",
      "metadata": {
        "id": "FWy3oD6trJiD"
      },
      "source": [
        "Nice! We've now managed to do some simple requests using an API. All we did was create a simple plot but the possibilities are endless. You could use data from APIs to train Machine Learning models, provide better experience to your Web App users, create more complex visualisations, automate processes, etc.\n"
      ]
    },
    {
      "cell_type": "markdown",
      "metadata": {
        "id": "RZojH6oLg7w9"
      },
      "source": [
        "## Task 2\n",
        "\n",
        "For task 2 we will be using the AlphaVantage API to plot some time-series data on a stock of our choice, or the IUCN Red List API to gather information on threatend species. *You may find it faster to get approved for AlphaVantage*\n",
        "\n",
        "Making a requst with an API key is not much more difficult than with no authorization, all you need to do is add the key to the query parameter.\n",
        "\n",
        "\n",
        "With AlpaVantage, we will be doing some analysis on a stock of our choice. We will:\n",
        "- Plot the time-series data of a stock, along with its SMA (Simple Moving Average).\n",
        "- Plot technical indicators (SMA, EMA)\n",
        "- Get the companies overview\n",
        "\n",
        "Firstly, head over to https://www.alphavantage.co/support/#api-key to get authenticated.\n",
        "\n",
        "For this task, we'll be using a wrapper library. Wrapper libraries are libraries which deal with getting and retrieving the data from the API for you, and potentially do some more processing. AlphaVantages Python wrapper is great because we can specifiy the output type to be a pandas dataframe. \n",
        "\n",
        "Here is the documentation for the API: https://www.alphavantage.co/documentation/\n",
        "Here is the documentation for the wrapper: https://github.com/RomelTorres/alpha_vantage\n",
        "\n",
        "You will need to reference both of these to complete the task"
      ]
    },
    {
      "cell_type": "code",
      "metadata": {
        "id": "RFGCde-HuUoZ"
      },
      "source": [
        "from alpha_vantage.timeseries import TimeSeries\n",
        "from alpha_vantage.techindicators import TechIndicators\n",
        "from alpha_vantage.fundamentaldata import FundamentalData\n",
        "import plotly.express as px\n",
        "\n",
        "import plotly.graph_objects as go\n",
        "import pandas as pd\n",
        "from datetime import datetime\n",
        "\n",
        "## BEGIN ##\n",
        "\n",
        "API_KEY = # Registered Key\n",
        "symbol = # Ticker of your choice, if you're not sure what you want to use, I recommend IBM\n",
        "\n",
        "## END\n",
        "\n",
        "ts = TimeSeries(key=API_KEY, output_format='pandas', indexing_type='integer')\n",
        "\n",
        "## BEGIN ##\n",
        "\n",
        " # Get daily data, with compact output sie\n",
        "\n",
        "## END ##\n",
        "df, meta_data = ts.get_daily(symbol, outputsize='compact')\n",
        "\n",
        "\n",
        "\n",
        "layout = go.Layout(\n",
        "      xaxis=dict(\n",
        "          type='category',\n",
        "      )\n",
        "  )\n",
        "\n",
        "fig = go.Figure(data=[go.Candlestick(x=df['index'],\n",
        "                open=df['1. open'],\n",
        "                high=df['2. high'],\n",
        "                low=df['3. low'],\n",
        "                close=df['4. close']),\n",
        "                ],\n",
        "               )\n",
        "\n",
        "fig.show()\n"
      ],
      "execution_count": null,
      "outputs": []
    },
    {
      "cell_type": "code",
      "metadata": {
        "id": "3DlffeAvozcu"
      },
      "source": [
        "ts = TimeSeries(key=API_KEY, output_format='pandas', indexing_type='integer')\n",
        "ti = TechIndicators(key=API_KEY, output_format='pandas', indexing_type='integer')\n",
        "\n",
        "## BEGIN ##\n",
        "\n",
        "# get daily time series data, with full output size\n",
        "\n",
        "# get the sma, with a weekly interval, time period of 10, and the serties type being close\n",
        "# get the ema, with a weekly interval, time period of 10, and the serties type being close\n",
        "\n",
        "## END\n",
        "\n",
        "layout = go.Layout(\n",
        "      xaxis=dict(\n",
        "          type='category',\n",
        "      )\n",
        "  )\n",
        "fig = go.Figure(data=[go.Scatter(x=data['index'], y = df['4. close'], name='Close Price'),\n",
        "                go.Scatter(x=sma['index'], y = sma['SMA'], name='SMA'),\n",
        "                go.Scatter(x=ema['index'], y = ema['EMA'], name='EMA')],\n",
        "               )\n",
        "\n",
        "fig.show()"
      ],
      "execution_count": null,
      "outputs": []
    },
    {
      "cell_type": "code",
      "metadata": {
        "id": "6YFTC4s0poC-"
      },
      "source": [
        "fd = FundamentalData(key=API_KEY)\n",
        "\n",
        "## BEGIN ##\n",
        "\n",
        "# Get the company overview\n",
        "\n",
        "# Print the following data \n",
        "\n",
        "  # Full time employees\n",
        "\n",
        "  # sector\n",
        "\n",
        "  # industry\n",
        "\n",
        "  # Market Cap\n",
        "\n",
        "  # P/E Ratio\n",
        "\n",
        "  # Revenue\n",
        "\n",
        "  # EPS\n",
        "\n",
        "  # Beta\n",
        "\n",
        "  # Desc\n",
        "\n",
        "## END ##"
      ],
      "execution_count": null,
      "outputs": []
    },
    {
      "cell_type": "markdown",
      "metadata": {
        "id": "8KXwlPmPpnlx"
      },
      "source": [
        "Nice! As you can see, there's a lot more we can do with an API that requires an APIKey. Using AlphaVantage we could build our own dashboard for stock analysis if we wanted to."
      ]
    },
    {
      "cell_type": "markdown",
      "metadata": {
        "id": "st06FB0a46mG"
      },
      "source": [
        "## Extension\n",
        "\n",
        "At this point I would recommend going onto Part Two and coming back for the task later. Please not you'll need a Gmail account for this task. \n",
        "\n",
        "The task for this goes as follows:\n",
        "- Get authenticated \n",
        "- Send an email\n",
        "\n",
        "Please note for this task you will need to run it on your host system.\n",
        "\n",
        "Further instructions can be found here: https://github.com/warwickdatasciencesociety/api-workshop/tree/solution"
      ]
    }
  ]
}